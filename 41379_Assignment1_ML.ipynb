{
 "cells": [
  {
   "cell_type": "code",
   "execution_count": 48,
   "id": "aaaf9934",
   "metadata": {},
   "outputs": [],
   "source": [
    "import pandas as pd\n",
    "import seaborn as sns\n",
    "import matplotlib.pyplot as plt\n",
    "import numpy as np"
   ]
  },
  {
   "cell_type": "code",
   "execution_count": 2,
   "id": "87b903d8",
   "metadata": {},
   "outputs": [],
   "source": [
    "df=pd.read_csv('uber.csv')"
   ]
  },
  {
   "cell_type": "code",
   "execution_count": 3,
   "id": "1d9e6d50",
   "metadata": {},
   "outputs": [
    {
     "data": {
      "text/html": [
       "<div>\n",
       "<style scoped>\n",
       "    .dataframe tbody tr th:only-of-type {\n",
       "        vertical-align: middle;\n",
       "    }\n",
       "\n",
       "    .dataframe tbody tr th {\n",
       "        vertical-align: top;\n",
       "    }\n",
       "\n",
       "    .dataframe thead th {\n",
       "        text-align: right;\n",
       "    }\n",
       "</style>\n",
       "<table border=\"1\" class=\"dataframe\">\n",
       "  <thead>\n",
       "    <tr style=\"text-align: right;\">\n",
       "      <th></th>\n",
       "      <th>Unnamed: 0</th>\n",
       "      <th>key</th>\n",
       "      <th>fare_amount</th>\n",
       "      <th>pickup_datetime</th>\n",
       "      <th>pickup_longitude</th>\n",
       "      <th>pickup_latitude</th>\n",
       "      <th>dropoff_longitude</th>\n",
       "      <th>dropoff_latitude</th>\n",
       "      <th>passenger_count</th>\n",
       "    </tr>\n",
       "  </thead>\n",
       "  <tbody>\n",
       "    <tr>\n",
       "      <th>0</th>\n",
       "      <td>24238194</td>\n",
       "      <td>2015-05-07 19:52:06.0000003</td>\n",
       "      <td>7.5</td>\n",
       "      <td>2015-05-07 19:52:06 UTC</td>\n",
       "      <td>-73.999817</td>\n",
       "      <td>40.738354</td>\n",
       "      <td>-73.999512</td>\n",
       "      <td>40.723217</td>\n",
       "      <td>1</td>\n",
       "    </tr>\n",
       "    <tr>\n",
       "      <th>1</th>\n",
       "      <td>27835199</td>\n",
       "      <td>2009-07-17 20:04:56.0000002</td>\n",
       "      <td>7.7</td>\n",
       "      <td>2009-07-17 20:04:56 UTC</td>\n",
       "      <td>-73.994355</td>\n",
       "      <td>40.728225</td>\n",
       "      <td>-73.994710</td>\n",
       "      <td>40.750325</td>\n",
       "      <td>1</td>\n",
       "    </tr>\n",
       "    <tr>\n",
       "      <th>2</th>\n",
       "      <td>44984355</td>\n",
       "      <td>2009-08-24 21:45:00.00000061</td>\n",
       "      <td>12.9</td>\n",
       "      <td>2009-08-24 21:45:00 UTC</td>\n",
       "      <td>-74.005043</td>\n",
       "      <td>40.740770</td>\n",
       "      <td>-73.962565</td>\n",
       "      <td>40.772647</td>\n",
       "      <td>1</td>\n",
       "    </tr>\n",
       "    <tr>\n",
       "      <th>3</th>\n",
       "      <td>25894730</td>\n",
       "      <td>2009-06-26 08:22:21.0000001</td>\n",
       "      <td>5.3</td>\n",
       "      <td>2009-06-26 08:22:21 UTC</td>\n",
       "      <td>-73.976124</td>\n",
       "      <td>40.790844</td>\n",
       "      <td>-73.965316</td>\n",
       "      <td>40.803349</td>\n",
       "      <td>3</td>\n",
       "    </tr>\n",
       "    <tr>\n",
       "      <th>4</th>\n",
       "      <td>17610152</td>\n",
       "      <td>2014-08-28 17:47:00.000000188</td>\n",
       "      <td>16.0</td>\n",
       "      <td>2014-08-28 17:47:00 UTC</td>\n",
       "      <td>-73.925023</td>\n",
       "      <td>40.744085</td>\n",
       "      <td>-73.973082</td>\n",
       "      <td>40.761247</td>\n",
       "      <td>5</td>\n",
       "    </tr>\n",
       "  </tbody>\n",
       "</table>\n",
       "</div>"
      ],
      "text/plain": [
       "   Unnamed: 0                            key  fare_amount  \\\n",
       "0    24238194    2015-05-07 19:52:06.0000003          7.5   \n",
       "1    27835199    2009-07-17 20:04:56.0000002          7.7   \n",
       "2    44984355   2009-08-24 21:45:00.00000061         12.9   \n",
       "3    25894730    2009-06-26 08:22:21.0000001          5.3   \n",
       "4    17610152  2014-08-28 17:47:00.000000188         16.0   \n",
       "\n",
       "           pickup_datetime  pickup_longitude  pickup_latitude  \\\n",
       "0  2015-05-07 19:52:06 UTC        -73.999817        40.738354   \n",
       "1  2009-07-17 20:04:56 UTC        -73.994355        40.728225   \n",
       "2  2009-08-24 21:45:00 UTC        -74.005043        40.740770   \n",
       "3  2009-06-26 08:22:21 UTC        -73.976124        40.790844   \n",
       "4  2014-08-28 17:47:00 UTC        -73.925023        40.744085   \n",
       "\n",
       "   dropoff_longitude  dropoff_latitude  passenger_count  \n",
       "0         -73.999512         40.723217                1  \n",
       "1         -73.994710         40.750325                1  \n",
       "2         -73.962565         40.772647                1  \n",
       "3         -73.965316         40.803349                3  \n",
       "4         -73.973082         40.761247                5  "
      ]
     },
     "execution_count": 3,
     "metadata": {},
     "output_type": "execute_result"
    }
   ],
   "source": [
    "df.head()"
   ]
  },
  {
   "cell_type": "code",
   "execution_count": 4,
   "id": "b3f85e42",
   "metadata": {
    "scrolled": false
   },
   "outputs": [],
   "source": [
    "df.drop(['Unnamed: 0','key'],axis=1,inplace=True)"
   ]
  },
  {
   "cell_type": "code",
   "execution_count": 5,
   "id": "025008c5",
   "metadata": {},
   "outputs": [
    {
     "data": {
      "text/plain": [
       "(200000, 7)"
      ]
     },
     "execution_count": 5,
     "metadata": {},
     "output_type": "execute_result"
    }
   ],
   "source": [
    "df.shape"
   ]
  },
  {
   "cell_type": "code",
   "execution_count": 6,
   "id": "2926fb85",
   "metadata": {},
   "outputs": [
    {
     "name": "stdout",
     "output_type": "stream",
     "text": [
      "<class 'pandas.core.frame.DataFrame'>\n",
      "RangeIndex: 200000 entries, 0 to 199999\n",
      "Data columns (total 7 columns):\n",
      " #   Column             Non-Null Count   Dtype  \n",
      "---  ------             --------------   -----  \n",
      " 0   fare_amount        200000 non-null  float64\n",
      " 1   pickup_datetime    200000 non-null  object \n",
      " 2   pickup_longitude   200000 non-null  float64\n",
      " 3   pickup_latitude    200000 non-null  float64\n",
      " 4   dropoff_longitude  199999 non-null  float64\n",
      " 5   dropoff_latitude   199999 non-null  float64\n",
      " 6   passenger_count    200000 non-null  int64  \n",
      "dtypes: float64(5), int64(1), object(1)\n",
      "memory usage: 10.7+ MB\n"
     ]
    }
   ],
   "source": [
    "df.info()"
   ]
  },
  {
   "cell_type": "code",
   "execution_count": 7,
   "id": "67a9bc1a",
   "metadata": {},
   "outputs": [
    {
     "data": {
      "text/plain": [
       "fare_amount          0\n",
       "pickup_datetime      0\n",
       "pickup_longitude     0\n",
       "pickup_latitude      0\n",
       "dropoff_longitude    1\n",
       "dropoff_latitude     1\n",
       "passenger_count      0\n",
       "dtype: int64"
      ]
     },
     "execution_count": 7,
     "metadata": {},
     "output_type": "execute_result"
    }
   ],
   "source": [
    "df.isnull().sum()"
   ]
  },
  {
   "cell_type": "code",
   "execution_count": 8,
   "id": "55a95df1",
   "metadata": {},
   "outputs": [],
   "source": [
    "df['dropoff_longitude'].fillna(value=df['dropoff_longitude'].mean(),inplace=True)"
   ]
  },
  {
   "cell_type": "code",
   "execution_count": 9,
   "id": "98490460",
   "metadata": {},
   "outputs": [],
   "source": [
    "df['dropoff_latitude'].fillna(value=df['dropoff_latitude'].mean(),inplace=True)"
   ]
  },
  {
   "cell_type": "code",
   "execution_count": 10,
   "id": "bc7fc460",
   "metadata": {},
   "outputs": [
    {
     "data": {
      "text/plain": [
       "fare_amount          0\n",
       "pickup_datetime      0\n",
       "pickup_longitude     0\n",
       "pickup_latitude      0\n",
       "dropoff_longitude    0\n",
       "dropoff_latitude     0\n",
       "passenger_count      0\n",
       "dtype: int64"
      ]
     },
     "execution_count": 10,
     "metadata": {},
     "output_type": "execute_result"
    }
   ],
   "source": [
    "df.isnull().sum()"
   ]
  },
  {
   "cell_type": "code",
   "execution_count": 11,
   "id": "a8e0575d",
   "metadata": {},
   "outputs": [
    {
     "data": {
      "text/plain": [
       "fare_amount          float64\n",
       "pickup_datetime       object\n",
       "pickup_longitude     float64\n",
       "pickup_latitude      float64\n",
       "dropoff_longitude    float64\n",
       "dropoff_latitude     float64\n",
       "passenger_count        int64\n",
       "dtype: object"
      ]
     },
     "execution_count": 11,
     "metadata": {},
     "output_type": "execute_result"
    }
   ],
   "source": [
    "df.dtypes"
   ]
  },
  {
   "cell_type": "code",
   "execution_count": 12,
   "id": "39ae4bf9",
   "metadata": {},
   "outputs": [],
   "source": [
    "df['pickup_datetime']=pd.to_datetime(df['pickup_datetime'],errors='coerce')"
   ]
  },
  {
   "cell_type": "code",
   "execution_count": 13,
   "id": "d3748e46",
   "metadata": {},
   "outputs": [
    {
     "data": {
      "text/plain": [
       "fare_amount                      float64\n",
       "pickup_datetime      datetime64[ns, UTC]\n",
       "pickup_longitude                 float64\n",
       "pickup_latitude                  float64\n",
       "dropoff_longitude                float64\n",
       "dropoff_latitude                 float64\n",
       "passenger_count                    int64\n",
       "dtype: object"
      ]
     },
     "execution_count": 13,
     "metadata": {},
     "output_type": "execute_result"
    }
   ],
   "source": [
    "df.dtypes"
   ]
  },
  {
   "cell_type": "code",
   "execution_count": 14,
   "id": "f834f424",
   "metadata": {},
   "outputs": [],
   "source": [
    "df=df.assign(\n",
    "        hour=df['pickup_datetime'].dt.hour,\n",
    "    day=df['pickup_datetime'].dt.day,\n",
    "    month=df['pickup_datetime'].dt.month,\n",
    "    year=df['pickup_datetime'].dt.year,\n",
    "    dayofweek=df['pickup_datetime'].dt.dayofweek\n",
    "        \n",
    ")"
   ]
  },
  {
   "cell_type": "code",
   "execution_count": 15,
   "id": "c20ccf31",
   "metadata": {},
   "outputs": [
    {
     "data": {
      "text/html": [
       "<div>\n",
       "<style scoped>\n",
       "    .dataframe tbody tr th:only-of-type {\n",
       "        vertical-align: middle;\n",
       "    }\n",
       "\n",
       "    .dataframe tbody tr th {\n",
       "        vertical-align: top;\n",
       "    }\n",
       "\n",
       "    .dataframe thead th {\n",
       "        text-align: right;\n",
       "    }\n",
       "</style>\n",
       "<table border=\"1\" class=\"dataframe\">\n",
       "  <thead>\n",
       "    <tr style=\"text-align: right;\">\n",
       "      <th></th>\n",
       "      <th>fare_amount</th>\n",
       "      <th>pickup_datetime</th>\n",
       "      <th>pickup_longitude</th>\n",
       "      <th>pickup_latitude</th>\n",
       "      <th>dropoff_longitude</th>\n",
       "      <th>dropoff_latitude</th>\n",
       "      <th>passenger_count</th>\n",
       "      <th>hour</th>\n",
       "      <th>day</th>\n",
       "      <th>month</th>\n",
       "      <th>year</th>\n",
       "      <th>dayofweek</th>\n",
       "    </tr>\n",
       "  </thead>\n",
       "  <tbody>\n",
       "    <tr>\n",
       "      <th>0</th>\n",
       "      <td>7.5</td>\n",
       "      <td>2015-05-07 19:52:06+00:00</td>\n",
       "      <td>-73.999817</td>\n",
       "      <td>40.738354</td>\n",
       "      <td>-73.999512</td>\n",
       "      <td>40.723217</td>\n",
       "      <td>1</td>\n",
       "      <td>19</td>\n",
       "      <td>7</td>\n",
       "      <td>5</td>\n",
       "      <td>2015</td>\n",
       "      <td>3</td>\n",
       "    </tr>\n",
       "    <tr>\n",
       "      <th>1</th>\n",
       "      <td>7.7</td>\n",
       "      <td>2009-07-17 20:04:56+00:00</td>\n",
       "      <td>-73.994355</td>\n",
       "      <td>40.728225</td>\n",
       "      <td>-73.994710</td>\n",
       "      <td>40.750325</td>\n",
       "      <td>1</td>\n",
       "      <td>20</td>\n",
       "      <td>17</td>\n",
       "      <td>7</td>\n",
       "      <td>2009</td>\n",
       "      <td>4</td>\n",
       "    </tr>\n",
       "    <tr>\n",
       "      <th>2</th>\n",
       "      <td>12.9</td>\n",
       "      <td>2009-08-24 21:45:00+00:00</td>\n",
       "      <td>-74.005043</td>\n",
       "      <td>40.740770</td>\n",
       "      <td>-73.962565</td>\n",
       "      <td>40.772647</td>\n",
       "      <td>1</td>\n",
       "      <td>21</td>\n",
       "      <td>24</td>\n",
       "      <td>8</td>\n",
       "      <td>2009</td>\n",
       "      <td>0</td>\n",
       "    </tr>\n",
       "    <tr>\n",
       "      <th>3</th>\n",
       "      <td>5.3</td>\n",
       "      <td>2009-06-26 08:22:21+00:00</td>\n",
       "      <td>-73.976124</td>\n",
       "      <td>40.790844</td>\n",
       "      <td>-73.965316</td>\n",
       "      <td>40.803349</td>\n",
       "      <td>3</td>\n",
       "      <td>8</td>\n",
       "      <td>26</td>\n",
       "      <td>6</td>\n",
       "      <td>2009</td>\n",
       "      <td>4</td>\n",
       "    </tr>\n",
       "    <tr>\n",
       "      <th>4</th>\n",
       "      <td>16.0</td>\n",
       "      <td>2014-08-28 17:47:00+00:00</td>\n",
       "      <td>-73.925023</td>\n",
       "      <td>40.744085</td>\n",
       "      <td>-73.973082</td>\n",
       "      <td>40.761247</td>\n",
       "      <td>5</td>\n",
       "      <td>17</td>\n",
       "      <td>28</td>\n",
       "      <td>8</td>\n",
       "      <td>2014</td>\n",
       "      <td>3</td>\n",
       "    </tr>\n",
       "  </tbody>\n",
       "</table>\n",
       "</div>"
      ],
      "text/plain": [
       "   fare_amount           pickup_datetime  pickup_longitude  pickup_latitude  \\\n",
       "0          7.5 2015-05-07 19:52:06+00:00        -73.999817        40.738354   \n",
       "1          7.7 2009-07-17 20:04:56+00:00        -73.994355        40.728225   \n",
       "2         12.9 2009-08-24 21:45:00+00:00        -74.005043        40.740770   \n",
       "3          5.3 2009-06-26 08:22:21+00:00        -73.976124        40.790844   \n",
       "4         16.0 2014-08-28 17:47:00+00:00        -73.925023        40.744085   \n",
       "\n",
       "   dropoff_longitude  dropoff_latitude  passenger_count  hour  day  month  \\\n",
       "0         -73.999512         40.723217                1    19    7      5   \n",
       "1         -73.994710         40.750325                1    20   17      7   \n",
       "2         -73.962565         40.772647                1    21   24      8   \n",
       "3         -73.965316         40.803349                3     8   26      6   \n",
       "4         -73.973082         40.761247                5    17   28      8   \n",
       "\n",
       "   year  dayofweek  \n",
       "0  2015          3  \n",
       "1  2009          4  \n",
       "2  2009          0  \n",
       "3  2009          4  \n",
       "4  2014          3  "
      ]
     },
     "execution_count": 15,
     "metadata": {},
     "output_type": "execute_result"
    }
   ],
   "source": [
    "df.head()"
   ]
  },
  {
   "cell_type": "code",
   "execution_count": 16,
   "id": "3367e67e",
   "metadata": {},
   "outputs": [],
   "source": [
    "df.drop('pickup_datetime',axis=1,inplace=True)"
   ]
  },
  {
   "cell_type": "code",
   "execution_count": 17,
   "id": "892261b0",
   "metadata": {},
   "outputs": [
    {
     "data": {
      "text/html": [
       "<div>\n",
       "<style scoped>\n",
       "    .dataframe tbody tr th:only-of-type {\n",
       "        vertical-align: middle;\n",
       "    }\n",
       "\n",
       "    .dataframe tbody tr th {\n",
       "        vertical-align: top;\n",
       "    }\n",
       "\n",
       "    .dataframe thead th {\n",
       "        text-align: right;\n",
       "    }\n",
       "</style>\n",
       "<table border=\"1\" class=\"dataframe\">\n",
       "  <thead>\n",
       "    <tr style=\"text-align: right;\">\n",
       "      <th></th>\n",
       "      <th>fare_amount</th>\n",
       "      <th>pickup_longitude</th>\n",
       "      <th>pickup_latitude</th>\n",
       "      <th>dropoff_longitude</th>\n",
       "      <th>dropoff_latitude</th>\n",
       "      <th>passenger_count</th>\n",
       "      <th>hour</th>\n",
       "      <th>day</th>\n",
       "      <th>month</th>\n",
       "      <th>year</th>\n",
       "      <th>dayofweek</th>\n",
       "    </tr>\n",
       "  </thead>\n",
       "  <tbody>\n",
       "    <tr>\n",
       "      <th>0</th>\n",
       "      <td>7.5</td>\n",
       "      <td>-73.999817</td>\n",
       "      <td>40.738354</td>\n",
       "      <td>-73.999512</td>\n",
       "      <td>40.723217</td>\n",
       "      <td>1</td>\n",
       "      <td>19</td>\n",
       "      <td>7</td>\n",
       "      <td>5</td>\n",
       "      <td>2015</td>\n",
       "      <td>3</td>\n",
       "    </tr>\n",
       "    <tr>\n",
       "      <th>1</th>\n",
       "      <td>7.7</td>\n",
       "      <td>-73.994355</td>\n",
       "      <td>40.728225</td>\n",
       "      <td>-73.994710</td>\n",
       "      <td>40.750325</td>\n",
       "      <td>1</td>\n",
       "      <td>20</td>\n",
       "      <td>17</td>\n",
       "      <td>7</td>\n",
       "      <td>2009</td>\n",
       "      <td>4</td>\n",
       "    </tr>\n",
       "    <tr>\n",
       "      <th>2</th>\n",
       "      <td>12.9</td>\n",
       "      <td>-74.005043</td>\n",
       "      <td>40.740770</td>\n",
       "      <td>-73.962565</td>\n",
       "      <td>40.772647</td>\n",
       "      <td>1</td>\n",
       "      <td>21</td>\n",
       "      <td>24</td>\n",
       "      <td>8</td>\n",
       "      <td>2009</td>\n",
       "      <td>0</td>\n",
       "    </tr>\n",
       "    <tr>\n",
       "      <th>3</th>\n",
       "      <td>5.3</td>\n",
       "      <td>-73.976124</td>\n",
       "      <td>40.790844</td>\n",
       "      <td>-73.965316</td>\n",
       "      <td>40.803349</td>\n",
       "      <td>3</td>\n",
       "      <td>8</td>\n",
       "      <td>26</td>\n",
       "      <td>6</td>\n",
       "      <td>2009</td>\n",
       "      <td>4</td>\n",
       "    </tr>\n",
       "    <tr>\n",
       "      <th>4</th>\n",
       "      <td>16.0</td>\n",
       "      <td>-73.925023</td>\n",
       "      <td>40.744085</td>\n",
       "      <td>-73.973082</td>\n",
       "      <td>40.761247</td>\n",
       "      <td>5</td>\n",
       "      <td>17</td>\n",
       "      <td>28</td>\n",
       "      <td>8</td>\n",
       "      <td>2014</td>\n",
       "      <td>3</td>\n",
       "    </tr>\n",
       "    <tr>\n",
       "      <th>...</th>\n",
       "      <td>...</td>\n",
       "      <td>...</td>\n",
       "      <td>...</td>\n",
       "      <td>...</td>\n",
       "      <td>...</td>\n",
       "      <td>...</td>\n",
       "      <td>...</td>\n",
       "      <td>...</td>\n",
       "      <td>...</td>\n",
       "      <td>...</td>\n",
       "      <td>...</td>\n",
       "    </tr>\n",
       "    <tr>\n",
       "      <th>199995</th>\n",
       "      <td>3.0</td>\n",
       "      <td>-73.987042</td>\n",
       "      <td>40.739367</td>\n",
       "      <td>-73.986525</td>\n",
       "      <td>40.740297</td>\n",
       "      <td>1</td>\n",
       "      <td>10</td>\n",
       "      <td>28</td>\n",
       "      <td>10</td>\n",
       "      <td>2012</td>\n",
       "      <td>6</td>\n",
       "    </tr>\n",
       "    <tr>\n",
       "      <th>199996</th>\n",
       "      <td>7.5</td>\n",
       "      <td>-73.984722</td>\n",
       "      <td>40.736837</td>\n",
       "      <td>-74.006672</td>\n",
       "      <td>40.739620</td>\n",
       "      <td>1</td>\n",
       "      <td>1</td>\n",
       "      <td>14</td>\n",
       "      <td>3</td>\n",
       "      <td>2014</td>\n",
       "      <td>4</td>\n",
       "    </tr>\n",
       "    <tr>\n",
       "      <th>199997</th>\n",
       "      <td>30.9</td>\n",
       "      <td>-73.986017</td>\n",
       "      <td>40.756487</td>\n",
       "      <td>-73.858957</td>\n",
       "      <td>40.692588</td>\n",
       "      <td>2</td>\n",
       "      <td>0</td>\n",
       "      <td>29</td>\n",
       "      <td>6</td>\n",
       "      <td>2009</td>\n",
       "      <td>0</td>\n",
       "    </tr>\n",
       "    <tr>\n",
       "      <th>199998</th>\n",
       "      <td>14.5</td>\n",
       "      <td>-73.997124</td>\n",
       "      <td>40.725452</td>\n",
       "      <td>-73.983215</td>\n",
       "      <td>40.695415</td>\n",
       "      <td>1</td>\n",
       "      <td>14</td>\n",
       "      <td>20</td>\n",
       "      <td>5</td>\n",
       "      <td>2015</td>\n",
       "      <td>2</td>\n",
       "    </tr>\n",
       "    <tr>\n",
       "      <th>199999</th>\n",
       "      <td>14.1</td>\n",
       "      <td>-73.984395</td>\n",
       "      <td>40.720077</td>\n",
       "      <td>-73.985508</td>\n",
       "      <td>40.768793</td>\n",
       "      <td>1</td>\n",
       "      <td>4</td>\n",
       "      <td>15</td>\n",
       "      <td>5</td>\n",
       "      <td>2010</td>\n",
       "      <td>5</td>\n",
       "    </tr>\n",
       "  </tbody>\n",
       "</table>\n",
       "<p>200000 rows × 11 columns</p>\n",
       "</div>"
      ],
      "text/plain": [
       "        fare_amount  pickup_longitude  pickup_latitude  dropoff_longitude  \\\n",
       "0               7.5        -73.999817        40.738354         -73.999512   \n",
       "1               7.7        -73.994355        40.728225         -73.994710   \n",
       "2              12.9        -74.005043        40.740770         -73.962565   \n",
       "3               5.3        -73.976124        40.790844         -73.965316   \n",
       "4              16.0        -73.925023        40.744085         -73.973082   \n",
       "...             ...               ...              ...                ...   \n",
       "199995          3.0        -73.987042        40.739367         -73.986525   \n",
       "199996          7.5        -73.984722        40.736837         -74.006672   \n",
       "199997         30.9        -73.986017        40.756487         -73.858957   \n",
       "199998         14.5        -73.997124        40.725452         -73.983215   \n",
       "199999         14.1        -73.984395        40.720077         -73.985508   \n",
       "\n",
       "        dropoff_latitude  passenger_count  hour  day  month  year  dayofweek  \n",
       "0              40.723217                1    19    7      5  2015          3  \n",
       "1              40.750325                1    20   17      7  2009          4  \n",
       "2              40.772647                1    21   24      8  2009          0  \n",
       "3              40.803349                3     8   26      6  2009          4  \n",
       "4              40.761247                5    17   28      8  2014          3  \n",
       "...                  ...              ...   ...  ...    ...   ...        ...  \n",
       "199995         40.740297                1    10   28     10  2012          6  \n",
       "199996         40.739620                1     1   14      3  2014          4  \n",
       "199997         40.692588                2     0   29      6  2009          0  \n",
       "199998         40.695415                1    14   20      5  2015          2  \n",
       "199999         40.768793                1     4   15      5  2010          5  \n",
       "\n",
       "[200000 rows x 11 columns]"
      ]
     },
     "execution_count": 17,
     "metadata": {},
     "output_type": "execute_result"
    }
   ],
   "source": [
    "df"
   ]
  },
  {
   "cell_type": "code",
   "execution_count": 18,
   "id": "914f13ac",
   "metadata": {},
   "outputs": [
    {
     "data": {
      "text/plain": [
       "fare_amount             AxesSubplot(0.125,0.787927;0.352273x0.0920732)\n",
       "pickup_longitude     AxesSubplot(0.547727,0.787927;0.352273x0.0920732)\n",
       "pickup_latitude         AxesSubplot(0.125,0.677439;0.352273x0.0920732)\n",
       "dropoff_longitude    AxesSubplot(0.547727,0.677439;0.352273x0.0920732)\n",
       "dropoff_latitude        AxesSubplot(0.125,0.566951;0.352273x0.0920732)\n",
       "passenger_count      AxesSubplot(0.547727,0.566951;0.352273x0.0920732)\n",
       "hour                    AxesSubplot(0.125,0.456463;0.352273x0.0920732)\n",
       "day                  AxesSubplot(0.547727,0.456463;0.352273x0.0920732)\n",
       "month                   AxesSubplot(0.125,0.345976;0.352273x0.0920732)\n",
       "year                 AxesSubplot(0.547727,0.345976;0.352273x0.0920732)\n",
       "dayofweek               AxesSubplot(0.125,0.235488;0.352273x0.0920732)\n",
       "dtype: object"
      ]
     },
     "execution_count": 18,
     "metadata": {},
     "output_type": "execute_result"
    },
    {
     "data": {
      "image/png": "[encoded data removed]",
      "text/plain": [
       "<Figure size 1080x1800 with 14 Axes>"
      ]
     },
     "metadata": {
      "needs_background": "light"
     },
     "output_type": "display_data"
    }
   ],
   "source": [
    "df.plot(kind='box',subplots=True,layout=(7,2),figsize=(15,25))"
   ]
  },
  {
   "cell_type": "code",
   "execution_count": 19,
   "id": "9b53d244",
   "metadata": {},
   "outputs": [],
   "source": [
    "#Remove Outliers\n",
    "# 1.passenger count\n",
    "df=df[(df['passenger_count']>0) & (df['passenger_count']<10)]\n",
    "#2.fare_amount\n",
    "df=df[df['fare_amount']>0]"
   ]
  },
  {
   "cell_type": "code",
   "execution_count": 20,
   "id": "ba60e271",
   "metadata": {},
   "outputs": [],
   "source": [
    "df = df[\n",
    "    (df['pickup_longitude']>=-180) & (df['pickup_longitude']<=180) & \n",
    "    (df['dropoff_longitude']>=-180) & (df['dropoff_longitude']<=180) &\n",
    "    (df['pickup_latitude']>=-90) & (df['pickup_latitude']<=90) &\n",
    "    (df['dropoff_latitude']>=-90) & (df['dropoff_latitude']<=90)\n",
    "]"
   ]
  },
  {
   "cell_type": "code",
   "execution_count": 21,
   "id": "3e67bff3",
   "metadata": {},
   "outputs": [
    {
     "data": {
      "text/plain": [
       "(199256, 11)"
      ]
     },
     "execution_count": 21,
     "metadata": {},
     "output_type": "execute_result"
    }
   ],
   "source": [
    "df.shape"
   ]
  },
  {
   "cell_type": "code",
   "execution_count": 22,
   "id": "5159d59c",
   "metadata": {},
   "outputs": [
    {
     "data": {
      "text/plain": [
       "fare_amount             AxesSubplot(0.125,0.787927;0.352273x0.0920732)\n",
       "pickup_longitude     AxesSubplot(0.547727,0.787927;0.352273x0.0920732)\n",
       "pickup_latitude         AxesSubplot(0.125,0.677439;0.352273x0.0920732)\n",
       "dropoff_longitude    AxesSubplot(0.547727,0.677439;0.352273x0.0920732)\n",
       "dropoff_latitude        AxesSubplot(0.125,0.566951;0.352273x0.0920732)\n",
       "passenger_count      AxesSubplot(0.547727,0.566951;0.352273x0.0920732)\n",
       "hour                    AxesSubplot(0.125,0.456463;0.352273x0.0920732)\n",
       "day                  AxesSubplot(0.547727,0.456463;0.352273x0.0920732)\n",
       "month                   AxesSubplot(0.125,0.345976;0.352273x0.0920732)\n",
       "year                 AxesSubplot(0.547727,0.345976;0.352273x0.0920732)\n",
       "dayofweek               AxesSubplot(0.125,0.235488;0.352273x0.0920732)\n",
       "dtype: object"
      ]
     },
     "execution_count": 22,
     "metadata": {},
     "output_type": "execute_result"
    },
    {
     "data": {
      "image/png": "[encoded data removed]",
      "text/plain": [
       "<Figure size 1080x1800 with 14 Axes>"
      ]
     },
     "metadata": {
      "needs_background": "light"
     },
     "output_type": "display_data"
    }
   ],
   "source": [
    "# After removing outliers\n",
    "df.plot(kind='box',subplots=True,layout=(7,2),figsize=(15,25))"
   ]
  },
  {
   "cell_type": "code",
   "execution_count": 23,
   "id": "e030afc0",
   "metadata": {},
   "outputs": [
    {
     "name": "stdout",
     "output_type": "stream",
     "text": [
      "<class 'pandas.core.frame.DataFrame'>\n",
      "RangeIndex: 199256 entries, 0 to 199255\n",
      "Data columns (total 12 columns):\n",
      " #   Column             Non-Null Count   Dtype  \n",
      "---  ------             --------------   -----  \n",
      " 0   index              199256 non-null  int64  \n",
      " 1   fare_amount        199256 non-null  float64\n",
      " 2   pickup_longitude   199256 non-null  float64\n",
      " 3   pickup_latitude    199256 non-null  float64\n",
      " 4   dropoff_longitude  199256 non-null  float64\n",
      " 5   dropoff_latitude   199256 non-null  float64\n",
      " 6   passenger_count    199256 non-null  int64  \n",
      " 7   hour               199256 non-null  int64  \n",
      " 8   day                199256 non-null  int64  \n",
      " 9   month              199256 non-null  int64  \n",
      " 10  year               199256 non-null  int64  \n",
      " 11  dayofweek          199256 non-null  int64  \n",
      "dtypes: float64(5), int64(7)\n",
      "memory usage: 18.2 MB\n"
     ]
    }
   ],
   "source": [
    "df.reset_index(inplace=True)\n",
    "df.info()"
   ]
  },
  {
   "cell_type": "code",
   "execution_count": 24,
   "id": "c514e12b",
   "metadata": {},
   "outputs": [],
   "source": [
    "import haversine as hs\n",
    "travel_distance=[]\n",
    "for pos in range(len(df['pickup_latitude'])):\n",
    "    lat1=df['pickup_latitude'][pos]\n",
    "    lat2=df['dropoff_latitude'][pos]\n",
    "    long1=df['pickup_longitude'][pos]\n",
    "    long2=df['dropoff_longitude'][pos]\n",
    "    loc1 = (lat1, long1)\n",
    "    loc2=(lat2,long2)\n",
    "    dist=hs.haversine(loc1,loc2)\n",
    "    travel_distance.append(dist)\n",
    "\n",
    "df['distance_travel']=pd.DataFrame(travel_distance)"
   ]
  },
  {
   "cell_type": "code",
   "execution_count": 25,
   "id": "96aa5aa6",
   "metadata": {},
   "outputs": [
    {
     "data": {
      "text/html": [
       "<div>\n",
       "<style scoped>\n",
       "    .dataframe tbody tr th:only-of-type {\n",
       "        vertical-align: middle;\n",
       "    }\n",
       "\n",
       "    .dataframe tbody tr th {\n",
       "        vertical-align: top;\n",
       "    }\n",
       "\n",
       "    .dataframe thead th {\n",
       "        text-align: right;\n",
       "    }\n",
       "</style>\n",
       "<table border=\"1\" class=\"dataframe\">\n",
       "  <thead>\n",
       "    <tr style=\"text-align: right;\">\n",
       "      <th></th>\n",
       "      <th>index</th>\n",
       "      <th>fare_amount</th>\n",
       "      <th>pickup_longitude</th>\n",
       "      <th>pickup_latitude</th>\n",
       "      <th>dropoff_longitude</th>\n",
       "      <th>dropoff_latitude</th>\n",
       "      <th>passenger_count</th>\n",
       "      <th>hour</th>\n",
       "      <th>day</th>\n",
       "      <th>month</th>\n",
       "      <th>year</th>\n",
       "      <th>dayofweek</th>\n",
       "      <th>distance_travel</th>\n",
       "    </tr>\n",
       "  </thead>\n",
       "  <tbody>\n",
       "    <tr>\n",
       "      <th>0</th>\n",
       "      <td>0</td>\n",
       "      <td>7.5</td>\n",
       "      <td>-73.999817</td>\n",
       "      <td>40.738354</td>\n",
       "      <td>-73.999512</td>\n",
       "      <td>40.723217</td>\n",
       "      <td>1</td>\n",
       "      <td>19</td>\n",
       "      <td>7</td>\n",
       "      <td>5</td>\n",
       "      <td>2015</td>\n",
       "      <td>3</td>\n",
       "      <td>1.683325</td>\n",
       "    </tr>\n",
       "    <tr>\n",
       "      <th>1</th>\n",
       "      <td>1</td>\n",
       "      <td>7.7</td>\n",
       "      <td>-73.994355</td>\n",
       "      <td>40.728225</td>\n",
       "      <td>-73.994710</td>\n",
       "      <td>40.750325</td>\n",
       "      <td>1</td>\n",
       "      <td>20</td>\n",
       "      <td>17</td>\n",
       "      <td>7</td>\n",
       "      <td>2009</td>\n",
       "      <td>4</td>\n",
       "      <td>2.457593</td>\n",
       "    </tr>\n",
       "    <tr>\n",
       "      <th>2</th>\n",
       "      <td>2</td>\n",
       "      <td>12.9</td>\n",
       "      <td>-74.005043</td>\n",
       "      <td>40.740770</td>\n",
       "      <td>-73.962565</td>\n",
       "      <td>40.772647</td>\n",
       "      <td>1</td>\n",
       "      <td>21</td>\n",
       "      <td>24</td>\n",
       "      <td>8</td>\n",
       "      <td>2009</td>\n",
       "      <td>0</td>\n",
       "      <td>5.036384</td>\n",
       "    </tr>\n",
       "    <tr>\n",
       "      <th>3</th>\n",
       "      <td>3</td>\n",
       "      <td>5.3</td>\n",
       "      <td>-73.976124</td>\n",
       "      <td>40.790844</td>\n",
       "      <td>-73.965316</td>\n",
       "      <td>40.803349</td>\n",
       "      <td>3</td>\n",
       "      <td>8</td>\n",
       "      <td>26</td>\n",
       "      <td>6</td>\n",
       "      <td>2009</td>\n",
       "      <td>4</td>\n",
       "      <td>1.661686</td>\n",
       "    </tr>\n",
       "    <tr>\n",
       "      <th>4</th>\n",
       "      <td>4</td>\n",
       "      <td>16.0</td>\n",
       "      <td>-73.925023</td>\n",
       "      <td>40.744085</td>\n",
       "      <td>-73.973082</td>\n",
       "      <td>40.761247</td>\n",
       "      <td>5</td>\n",
       "      <td>17</td>\n",
       "      <td>28</td>\n",
       "      <td>8</td>\n",
       "      <td>2014</td>\n",
       "      <td>3</td>\n",
       "      <td>4.475456</td>\n",
       "    </tr>\n",
       "    <tr>\n",
       "      <th>...</th>\n",
       "      <td>...</td>\n",
       "      <td>...</td>\n",
       "      <td>...</td>\n",
       "      <td>...</td>\n",
       "      <td>...</td>\n",
       "      <td>...</td>\n",
       "      <td>...</td>\n",
       "      <td>...</td>\n",
       "      <td>...</td>\n",
       "      <td>...</td>\n",
       "      <td>...</td>\n",
       "      <td>...</td>\n",
       "      <td>...</td>\n",
       "    </tr>\n",
       "    <tr>\n",
       "      <th>199251</th>\n",
       "      <td>199995</td>\n",
       "      <td>3.0</td>\n",
       "      <td>-73.987042</td>\n",
       "      <td>40.739367</td>\n",
       "      <td>-73.986525</td>\n",
       "      <td>40.740297</td>\n",
       "      <td>1</td>\n",
       "      <td>10</td>\n",
       "      <td>28</td>\n",
       "      <td>10</td>\n",
       "      <td>2012</td>\n",
       "      <td>6</td>\n",
       "      <td>0.112210</td>\n",
       "    </tr>\n",
       "    <tr>\n",
       "      <th>199252</th>\n",
       "      <td>199996</td>\n",
       "      <td>7.5</td>\n",
       "      <td>-73.984722</td>\n",
       "      <td>40.736837</td>\n",
       "      <td>-74.006672</td>\n",
       "      <td>40.739620</td>\n",
       "      <td>1</td>\n",
       "      <td>1</td>\n",
       "      <td>14</td>\n",
       "      <td>3</td>\n",
       "      <td>2014</td>\n",
       "      <td>4</td>\n",
       "      <td>1.875053</td>\n",
       "    </tr>\n",
       "    <tr>\n",
       "      <th>199253</th>\n",
       "      <td>199997</td>\n",
       "      <td>30.9</td>\n",
       "      <td>-73.986017</td>\n",
       "      <td>40.756487</td>\n",
       "      <td>-73.858957</td>\n",
       "      <td>40.692588</td>\n",
       "      <td>2</td>\n",
       "      <td>0</td>\n",
       "      <td>29</td>\n",
       "      <td>6</td>\n",
       "      <td>2009</td>\n",
       "      <td>0</td>\n",
       "      <td>12.850337</td>\n",
       "    </tr>\n",
       "    <tr>\n",
       "      <th>199254</th>\n",
       "      <td>199998</td>\n",
       "      <td>14.5</td>\n",
       "      <td>-73.997124</td>\n",
       "      <td>40.725452</td>\n",
       "      <td>-73.983215</td>\n",
       "      <td>40.695415</td>\n",
       "      <td>1</td>\n",
       "      <td>14</td>\n",
       "      <td>20</td>\n",
       "      <td>5</td>\n",
       "      <td>2015</td>\n",
       "      <td>2</td>\n",
       "      <td>3.539720</td>\n",
       "    </tr>\n",
       "    <tr>\n",
       "      <th>199255</th>\n",
       "      <td>199999</td>\n",
       "      <td>14.1</td>\n",
       "      <td>-73.984395</td>\n",
       "      <td>40.720077</td>\n",
       "      <td>-73.985508</td>\n",
       "      <td>40.768793</td>\n",
       "      <td>1</td>\n",
       "      <td>4</td>\n",
       "      <td>15</td>\n",
       "      <td>5</td>\n",
       "      <td>2010</td>\n",
       "      <td>5</td>\n",
       "      <td>5.417791</td>\n",
       "    </tr>\n",
       "  </tbody>\n",
       "</table>\n",
       "<p>199256 rows × 13 columns</p>\n",
       "</div>"
      ],
      "text/plain": [
       "         index  fare_amount  pickup_longitude  pickup_latitude  \\\n",
       "0            0          7.5        -73.999817        40.738354   \n",
       "1            1          7.7        -73.994355        40.728225   \n",
       "2            2         12.9        -74.005043        40.740770   \n",
       "3            3          5.3        -73.976124        40.790844   \n",
       "4            4         16.0        -73.925023        40.744085   \n",
       "...        ...          ...               ...              ...   \n",
       "199251  199995          3.0        -73.987042        40.739367   \n",
       "199252  199996          7.5        -73.984722        40.736837   \n",
       "199253  199997         30.9        -73.986017        40.756487   \n",
       "199254  199998         14.5        -73.997124        40.725452   \n",
       "199255  199999         14.1        -73.984395        40.720077   \n",
       "\n",
       "        dropoff_longitude  dropoff_latitude  passenger_count  hour  day  \\\n",
       "0              -73.999512         40.723217                1    19    7   \n",
       "1              -73.994710         40.750325                1    20   17   \n",
       "2              -73.962565         40.772647                1    21   24   \n",
       "3              -73.965316         40.803349                3     8   26   \n",
       "4              -73.973082         40.761247                5    17   28   \n",
       "...                   ...               ...              ...   ...  ...   \n",
       "199251         -73.986525         40.740297                1    10   28   \n",
       "199252         -74.006672         40.739620                1     1   14   \n",
       "199253         -73.858957         40.692588                2     0   29   \n",
       "199254         -73.983215         40.695415                1    14   20   \n",
       "199255         -73.985508         40.768793                1     4   15   \n",
       "\n",
       "        month  year  dayofweek  distance_travel  \n",
       "0           5  2015          3         1.683325  \n",
       "1           7  2009          4         2.457593  \n",
       "2           8  2009          0         5.036384  \n",
       "3           6  2009          4         1.661686  \n",
       "4           8  2014          3         4.475456  \n",
       "...       ...   ...        ...              ...  \n",
       "199251     10  2012          6         0.112210  \n",
       "199252      3  2014          4         1.875053  \n",
       "199253      6  2009          0        12.850337  \n",
       "199254      5  2015          2         3.539720  \n",
       "199255      5  2010          5         5.417791  \n",
       "\n",
       "[199256 rows x 13 columns]"
      ]
     },
     "execution_count": 25,
     "metadata": {},
     "output_type": "execute_result"
    }
   ],
   "source": [
    "df\n"
   ]
  },
  {
   "cell_type": "code",
   "execution_count": 26,
   "id": "5a1cd2d6",
   "metadata": {},
   "outputs": [
    {
     "data": {
      "text/html": [
       "<div>\n",
       "<style scoped>\n",
       "    .dataframe tbody tr th:only-of-type {\n",
       "        vertical-align: middle;\n",
       "    }\n",
       "\n",
       "    .dataframe tbody tr th {\n",
       "        vertical-align: top;\n",
       "    }\n",
       "\n",
       "    .dataframe thead th {\n",
       "        text-align: right;\n",
       "    }\n",
       "</style>\n",
       "<table border=\"1\" class=\"dataframe\">\n",
       "  <thead>\n",
       "    <tr style=\"text-align: right;\">\n",
       "      <th></th>\n",
       "      <th>index</th>\n",
       "      <th>fare_amount</th>\n",
       "      <th>pickup_longitude</th>\n",
       "      <th>pickup_latitude</th>\n",
       "      <th>dropoff_longitude</th>\n",
       "      <th>dropoff_latitude</th>\n",
       "      <th>passenger_count</th>\n",
       "      <th>hour</th>\n",
       "      <th>day</th>\n",
       "      <th>month</th>\n",
       "      <th>year</th>\n",
       "      <th>dayofweek</th>\n",
       "      <th>distance_travel</th>\n",
       "    </tr>\n",
       "  </thead>\n",
       "  <tbody>\n",
       "    <tr>\n",
       "      <th>index</th>\n",
       "      <td>1.000000</td>\n",
       "      <td>-0.001676</td>\n",
       "      <td>-0.000429</td>\n",
       "      <td>0.000534</td>\n",
       "      <td>0.000132</td>\n",
       "      <td>0.000522</td>\n",
       "      <td>0.005013</td>\n",
       "      <td>0.001364</td>\n",
       "      <td>0.001063</td>\n",
       "      <td>0.002257</td>\n",
       "      <td>-0.001141</td>\n",
       "      <td>-0.002213</td>\n",
       "      <td>-0.001313</td>\n",
       "    </tr>\n",
       "    <tr>\n",
       "      <th>fare_amount</th>\n",
       "      <td>-0.001676</td>\n",
       "      <td>1.000000</td>\n",
       "      <td>0.011597</td>\n",
       "      <td>-0.011521</td>\n",
       "      <td>0.011980</td>\n",
       "      <td>-0.012358</td>\n",
       "      <td>0.010184</td>\n",
       "      <td>-0.021482</td>\n",
       "      <td>0.001438</td>\n",
       "      <td>0.023477</td>\n",
       "      <td>0.118513</td>\n",
       "      <td>0.007222</td>\n",
       "      <td>0.025615</td>\n",
       "    </tr>\n",
       "    <tr>\n",
       "      <th>pickup_longitude</th>\n",
       "      <td>-0.000429</td>\n",
       "      <td>0.011597</td>\n",
       "      <td>1.000000</td>\n",
       "      <td>-0.978956</td>\n",
       "      <td>0.950317</td>\n",
       "      <td>-0.937159</td>\n",
       "      <td>-0.000512</td>\n",
       "      <td>0.001563</td>\n",
       "      <td>0.005699</td>\n",
       "      <td>-0.003535</td>\n",
       "      <td>0.009740</td>\n",
       "      <td>0.002196</td>\n",
       "      <td>0.163156</td>\n",
       "    </tr>\n",
       "    <tr>\n",
       "      <th>pickup_latitude</th>\n",
       "      <td>0.000534</td>\n",
       "      <td>-0.011521</td>\n",
       "      <td>-0.978956</td>\n",
       "      <td>1.000000</td>\n",
       "      <td>-0.937224</td>\n",
       "      <td>0.958727</td>\n",
       "      <td>-0.000824</td>\n",
       "      <td>-0.001507</td>\n",
       "      <td>-0.009138</td>\n",
       "      <td>0.004688</td>\n",
       "      <td>-0.012042</td>\n",
       "      <td>-0.004045</td>\n",
       "      <td>-0.141658</td>\n",
       "    </tr>\n",
       "    <tr>\n",
       "      <th>dropoff_longitude</th>\n",
       "      <td>0.000132</td>\n",
       "      <td>0.011980</td>\n",
       "      <td>0.950317</td>\n",
       "      <td>-0.937224</td>\n",
       "      <td>1.000000</td>\n",
       "      <td>-0.979599</td>\n",
       "      <td>-0.000243</td>\n",
       "      <td>0.001259</td>\n",
       "      <td>0.004494</td>\n",
       "      <td>-0.001972</td>\n",
       "      <td>0.010163</td>\n",
       "      <td>0.002108</td>\n",
       "      <td>0.139208</td>\n",
       "    </tr>\n",
       "    <tr>\n",
       "      <th>dropoff_latitude</th>\n",
       "      <td>0.000522</td>\n",
       "      <td>-0.012358</td>\n",
       "      <td>-0.937159</td>\n",
       "      <td>0.958727</td>\n",
       "      <td>-0.979599</td>\n",
       "      <td>1.000000</td>\n",
       "      <td>-0.001614</td>\n",
       "      <td>-0.001586</td>\n",
       "      <td>-0.008062</td>\n",
       "      <td>0.003403</td>\n",
       "      <td>-0.012423</td>\n",
       "      <td>-0.003763</td>\n",
       "      <td>-0.123156</td>\n",
       "    </tr>\n",
       "    <tr>\n",
       "      <th>passenger_count</th>\n",
       "      <td>0.005013</td>\n",
       "      <td>0.010184</td>\n",
       "      <td>-0.000512</td>\n",
       "      <td>-0.000824</td>\n",
       "      <td>-0.000243</td>\n",
       "      <td>-0.001614</td>\n",
       "      <td>1.000000</td>\n",
       "      <td>0.014496</td>\n",
       "      <td>0.002212</td>\n",
       "      <td>0.008658</td>\n",
       "      <td>0.004871</td>\n",
       "      <td>0.035569</td>\n",
       "      <td>-0.001482</td>\n",
       "    </tr>\n",
       "    <tr>\n",
       "      <th>hour</th>\n",
       "      <td>0.001364</td>\n",
       "      <td>-0.021482</td>\n",
       "      <td>0.001563</td>\n",
       "      <td>-0.001507</td>\n",
       "      <td>0.001259</td>\n",
       "      <td>-0.001586</td>\n",
       "      <td>0.014496</td>\n",
       "      <td>1.000000</td>\n",
       "      <td>0.004865</td>\n",
       "      <td>-0.004038</td>\n",
       "      <td>0.002176</td>\n",
       "      <td>-0.086642</td>\n",
       "      <td>-0.000059</td>\n",
       "    </tr>\n",
       "    <tr>\n",
       "      <th>day</th>\n",
       "      <td>0.001063</td>\n",
       "      <td>0.001438</td>\n",
       "      <td>0.005699</td>\n",
       "      <td>-0.009138</td>\n",
       "      <td>0.004494</td>\n",
       "      <td>-0.008062</td>\n",
       "      <td>0.002212</td>\n",
       "      <td>0.004865</td>\n",
       "      <td>1.000000</td>\n",
       "      <td>-0.017554</td>\n",
       "      <td>-0.012093</td>\n",
       "      <td>0.005712</td>\n",
       "      <td>-0.001752</td>\n",
       "    </tr>\n",
       "    <tr>\n",
       "      <th>month</th>\n",
       "      <td>0.002257</td>\n",
       "      <td>0.023477</td>\n",
       "      <td>-0.003535</td>\n",
       "      <td>0.004688</td>\n",
       "      <td>-0.001972</td>\n",
       "      <td>0.003403</td>\n",
       "      <td>0.008658</td>\n",
       "      <td>-0.004038</td>\n",
       "      <td>-0.017554</td>\n",
       "      <td>1.000000</td>\n",
       "      <td>-0.115519</td>\n",
       "      <td>-0.009020</td>\n",
       "      <td>-0.000526</td>\n",
       "    </tr>\n",
       "    <tr>\n",
       "      <th>year</th>\n",
       "      <td>-0.001141</td>\n",
       "      <td>0.118513</td>\n",
       "      <td>0.009740</td>\n",
       "      <td>-0.012042</td>\n",
       "      <td>0.010163</td>\n",
       "      <td>-0.012423</td>\n",
       "      <td>0.004871</td>\n",
       "      <td>0.002176</td>\n",
       "      <td>-0.012093</td>\n",
       "      <td>-0.115519</td>\n",
       "      <td>1.000000</td>\n",
       "      <td>0.006050</td>\n",
       "      <td>0.026808</td>\n",
       "    </tr>\n",
       "    <tr>\n",
       "      <th>dayofweek</th>\n",
       "      <td>-0.002213</td>\n",
       "      <td>0.007222</td>\n",
       "      <td>0.002196</td>\n",
       "      <td>-0.004045</td>\n",
       "      <td>0.002108</td>\n",
       "      <td>-0.003763</td>\n",
       "      <td>0.035569</td>\n",
       "      <td>-0.086642</td>\n",
       "      <td>0.005712</td>\n",
       "      <td>-0.009020</td>\n",
       "      <td>0.006050</td>\n",
       "      <td>1.000000</td>\n",
       "      <td>-0.004662</td>\n",
       "    </tr>\n",
       "    <tr>\n",
       "      <th>distance_travel</th>\n",
       "      <td>-0.001313</td>\n",
       "      <td>0.025615</td>\n",
       "      <td>0.163156</td>\n",
       "      <td>-0.141658</td>\n",
       "      <td>0.139208</td>\n",
       "      <td>-0.123156</td>\n",
       "      <td>-0.001482</td>\n",
       "      <td>-0.000059</td>\n",
       "      <td>-0.001752</td>\n",
       "      <td>-0.000526</td>\n",
       "      <td>0.026808</td>\n",
       "      <td>-0.004662</td>\n",
       "      <td>1.000000</td>\n",
       "    </tr>\n",
       "  </tbody>\n",
       "</table>\n",
       "</div>"
      ],
      "text/plain": [
       "                      index  fare_amount  pickup_longitude  pickup_latitude  \\\n",
       "index              1.000000    -0.001676         -0.000429         0.000534   \n",
       "fare_amount       -0.001676     1.000000          0.011597        -0.011521   \n",
       "pickup_longitude  -0.000429     0.011597          1.000000        -0.978956   \n",
       "pickup_latitude    0.000534    -0.011521         -0.978956         1.000000   \n",
       "dropoff_longitude  0.000132     0.011980          0.950317        -0.937224   \n",
       "dropoff_latitude   0.000522    -0.012358         -0.937159         0.958727   \n",
       "passenger_count    0.005013     0.010184         -0.000512        -0.000824   \n",
       "hour               0.001364    -0.021482          0.001563        -0.001507   \n",
       "day                0.001063     0.001438          0.005699        -0.009138   \n",
       "month              0.002257     0.023477         -0.003535         0.004688   \n",
       "year              -0.001141     0.118513          0.009740        -0.012042   \n",
       "dayofweek         -0.002213     0.007222          0.002196        -0.004045   \n",
       "distance_travel   -0.001313     0.025615          0.163156        -0.141658   \n",
       "\n",
       "                   dropoff_longitude  dropoff_latitude  passenger_count  \\\n",
       "index                       0.000132          0.000522         0.005013   \n",
       "fare_amount                 0.011980         -0.012358         0.010184   \n",
       "pickup_longitude            0.950317         -0.937159        -0.000512   \n",
       "pickup_latitude            -0.937224          0.958727        -0.000824   \n",
       "dropoff_longitude           1.000000         -0.979599        -0.000243   \n",
       "dropoff_latitude           -0.979599          1.000000        -0.001614   \n",
       "passenger_count            -0.000243         -0.001614         1.000000   \n",
       "hour                        0.001259         -0.001586         0.014496   \n",
       "day                         0.004494         -0.008062         0.002212   \n",
       "month                      -0.001972          0.003403         0.008658   \n",
       "year                        0.010163         -0.012423         0.004871   \n",
       "dayofweek                   0.002108         -0.003763         0.035569   \n",
       "distance_travel             0.139208         -0.123156        -0.001482   \n",
       "\n",
       "                       hour       day     month      year  dayofweek  \\\n",
       "index              0.001364  0.001063  0.002257 -0.001141  -0.002213   \n",
       "fare_amount       -0.021482  0.001438  0.023477  0.118513   0.007222   \n",
       "pickup_longitude   0.001563  0.005699 -0.003535  0.009740   0.002196   \n",
       "pickup_latitude   -0.001507 -0.009138  0.004688 -0.012042  -0.004045   \n",
       "dropoff_longitude  0.001259  0.004494 -0.001972  0.010163   0.002108   \n",
       "dropoff_latitude  -0.001586 -0.008062  0.003403 -0.012423  -0.003763   \n",
       "passenger_count    0.014496  0.002212  0.008658  0.004871   0.035569   \n",
       "hour               1.000000  0.004865 -0.004038  0.002176  -0.086642   \n",
       "day                0.004865  1.000000 -0.017554 -0.012093   0.005712   \n",
       "month             -0.004038 -0.017554  1.000000 -0.115519  -0.009020   \n",
       "year               0.002176 -0.012093 -0.115519  1.000000   0.006050   \n",
       "dayofweek         -0.086642  0.005712 -0.009020  0.006050   1.000000   \n",
       "distance_travel   -0.000059 -0.001752 -0.000526  0.026808  -0.004662   \n",
       "\n",
       "                   distance_travel  \n",
       "index                    -0.001313  \n",
       "fare_amount               0.025615  \n",
       "pickup_longitude          0.163156  \n",
       "pickup_latitude          -0.141658  \n",
       "dropoff_longitude         0.139208  \n",
       "dropoff_latitude         -0.123156  \n",
       "passenger_count          -0.001482  \n",
       "hour                     -0.000059  \n",
       "day                      -0.001752  \n",
       "month                    -0.000526  \n",
       "year                      0.026808  \n",
       "dayofweek                -0.004662  \n",
       "distance_travel           1.000000  "
      ]
     },
     "execution_count": 26,
     "metadata": {},
     "output_type": "execute_result"
    }
   ],
   "source": [
    "df.corr()"
   ]
  },
  {
   "cell_type": "code",
   "execution_count": 29,
   "id": "3d16a0cd",
   "metadata": {},
   "outputs": [
    {
     "data": {
      "text/plain": [
       "<AxesSubplot:>"
      ]
     },
     "execution_count": 29,
     "metadata": {},
     "output_type": "execute_result"
    },
    {
     "data": {
      "image/png": "[encoded data removed]",
      "text/plain": [
       "<Figure size 1080x720 with 2 Axes>"
      ]
     },
     "metadata": {
      "needs_background": "light"
     },
     "output_type": "display_data"
    }
   ],
   "source": [
    "fig, axis = plt.subplots(figsize=(15,10))\n",
    "sns.heatmap(df.corr(),annot=True)"
   ]
  },
  {
   "cell_type": "code",
   "execution_count": 31,
   "id": "dd40447e",
   "metadata": {},
   "outputs": [],
   "source": [
    "x=df[['pickup_longitude','pickup_latitude','dropoff_longitude','dropoff_latitude','passenger_count','hour','day','month','year','dayofweek','distance_travel']]\n",
    "y=df['fare_amount']"
   ]
  },
  {
   "cell_type": "code",
   "execution_count": 32,
   "id": "babd8982",
   "metadata": {},
   "outputs": [],
   "source": [
    "from sklearn.model_selection import train_test_split\n"
   ]
  },
  {
   "cell_type": "code",
   "execution_count": 33,
   "id": "e3057a72",
   "metadata": {},
   "outputs": [],
   "source": [
    "x_train,x_test,y_train,y_test=train_test_split(x,y,test_size=0.25,random_state=0)"
   ]
  },
  {
   "cell_type": "code",
   "execution_count": 34,
   "id": "b12dc2d6",
   "metadata": {},
   "outputs": [],
   "source": [
    "from sklearn.linear_model import LinearRegression"
   ]
  },
  {
   "cell_type": "code",
   "execution_count": 35,
   "id": "de949883",
   "metadata": {},
   "outputs": [],
   "source": [
    "lin=LinearRegression()"
   ]
  },
  {
   "cell_type": "code",
   "execution_count": 36,
   "id": "b9142e90",
   "metadata": {},
   "outputs": [],
   "source": [
    "clf=lin.fit(x_train,y_train)"
   ]
  },
  {
   "cell_type": "code",
   "execution_count": 37,
   "id": "ff53eada",
   "metadata": {},
   "outputs": [],
   "source": [
    "y_pred=clf.predict(x_test)"
   ]
  },
  {
   "cell_type": "code",
   "execution_count": 38,
   "id": "5c3734eb",
   "metadata": {},
   "outputs": [
    {
     "data": {
      "text/plain": [
       "array([12.45840442, 13.58260817, 10.16145583, ..., 13.24933856,\n",
       "       11.98132538, 11.03118465])"
      ]
     },
     "execution_count": 38,
     "metadata": {},
     "output_type": "execute_result"
    }
   ],
   "source": [
    "y_pred"
   ]
  },
  {
   "cell_type": "code",
   "execution_count": 39,
   "id": "849126b7",
   "metadata": {},
   "outputs": [
    {
     "data": {
      "text/plain": [
       "124647     8.00\n",
       "43451     57.54\n",
       "137984     5.30\n",
       "87555     72.50\n",
       "112235     7.50\n",
       "          ...  \n",
       "81653     17.50\n",
       "124806     3.30\n",
       "52816     22.50\n",
       "38199      4.90\n",
       "146207     6.10\n",
       "Name: fare_amount, Length: 49814, dtype: float64"
      ]
     },
     "execution_count": 39,
     "metadata": {},
     "output_type": "execute_result"
    }
   ],
   "source": [
    "y_test"
   ]
  },
  {
   "cell_type": "code",
   "execution_count": 41,
   "id": "3800be66",
   "metadata": {},
   "outputs": [
    {
     "data": {
      "text/plain": [
       "1.7231623138624586"
      ]
     },
     "execution_count": 41,
     "metadata": {},
     "output_type": "execute_result"
    }
   ],
   "source": [
    "clf.score(x_test,y_test)*100"
   ]
  },
  {
   "cell_type": "code",
   "execution_count": 42,
   "id": "e46185d2",
   "metadata": {},
   "outputs": [],
   "source": [
    "from sklearn.metrics import r2_score"
   ]
  },
  {
   "cell_type": "code",
   "execution_count": 43,
   "id": "7a0c59ec",
   "metadata": {},
   "outputs": [
    {
     "data": {
      "text/plain": [
       "0.017231623138624586"
      ]
     },
     "execution_count": 43,
     "metadata": {},
     "output_type": "execute_result"
    }
   ],
   "source": [
    "r2_score(y_test,y_pred)"
   ]
  },
  {
   "cell_type": "code",
   "execution_count": 44,
   "id": "b17c6b80",
   "metadata": {},
   "outputs": [],
   "source": [
    "from sklearn.metrics import mean_squared_error"
   ]
  },
  {
   "cell_type": "code",
   "execution_count": 45,
   "id": "6081f027",
   "metadata": {},
   "outputs": [],
   "source": [
    "mse=mean_squared_error(y_test,y_pred)"
   ]
  },
  {
   "cell_type": "code",
   "execution_count": 46,
   "id": "c0b99102",
   "metadata": {},
   "outputs": [
    {
     "data": {
      "text/plain": [
       "92.08224439634168"
      ]
     },
     "execution_count": 46,
     "metadata": {},
     "output_type": "execute_result"
    }
   ],
   "source": [
    "mse"
   ]
  },
  {
   "cell_type": "code",
   "execution_count": 50,
   "id": "727dd7f4",
   "metadata": {},
   "outputs": [
    {
     "data": {
      "text/plain": [
       "9.595949374415316"
      ]
     },
     "execution_count": 50,
     "metadata": {},
     "output_type": "execute_result"
    }
   ],
   "source": [
    "rmse=np.sqrt(mse)\n",
    "rmse"
   ]
  },
  {
   "cell_type": "code",
   "execution_count": 51,
   "id": "d96dbe39",
   "metadata": {},
   "outputs": [],
   "source": [
    "from sklearn.ensemble import RandomForestRegressor"
   ]
  },
  {
   "cell_type": "code",
   "execution_count": 52,
   "id": "a49c78af",
   "metadata": {},
   "outputs": [],
   "source": [
    "rf=RandomForestRegressor(n_estimators=100,random_state=0)"
   ]
  },
  {
   "cell_type": "code",
   "execution_count": 53,
   "id": "5ec849f4",
   "metadata": {},
   "outputs": [],
   "source": [
    "clf2=rf.fit(x_train,y_train)"
   ]
  },
  {
   "cell_type": "code",
   "execution_count": 54,
   "id": "3d47a43e",
   "metadata": {},
   "outputs": [
    {
     "data": {
      "text/plain": [
       "array([ 7.075 , 56.9392,  6.732 , ..., 17.55  ,  9.5051,  6.763 ])"
      ]
     },
     "execution_count": 54,
     "metadata": {},
     "output_type": "execute_result"
    }
   ],
   "source": [
    "y_pred=clf2.predict(x_test)\n",
    "y_pred"
   ]
  },
  {
   "cell_type": "code",
   "execution_count": 55,
   "id": "74aa11ee",
   "metadata": {},
   "outputs": [
    {
     "data": {
      "text/plain": [
       "124647     8.00\n",
       "43451     57.54\n",
       "137984     5.30\n",
       "87555     72.50\n",
       "112235     7.50\n",
       "          ...  \n",
       "81653     17.50\n",
       "124806     3.30\n",
       "52816     22.50\n",
       "38199      4.90\n",
       "146207     6.10\n",
       "Name: fare_amount, Length: 49814, dtype: float64"
      ]
     },
     "execution_count": 55,
     "metadata": {},
     "output_type": "execute_result"
    }
   ],
   "source": [
    "y_test"
   ]
  },
  {
   "cell_type": "code",
   "execution_count": 56,
   "id": "5059fd82",
   "metadata": {},
   "outputs": [
    {
     "data": {
      "text/plain": [
       "0.8135259469368246"
      ]
     },
     "execution_count": 56,
     "metadata": {},
     "output_type": "execute_result"
    }
   ],
   "source": [
    "clf2.score(x_test,y_test)"
   ]
  },
  {
   "cell_type": "code",
   "execution_count": 57,
   "id": "f29496b6",
   "metadata": {},
   "outputs": [
    {
     "data": {
      "text/plain": [
       "0.8135259469368246"
      ]
     },
     "execution_count": 57,
     "metadata": {},
     "output_type": "execute_result"
    }
   ],
   "source": [
    "r2_score(y_test,y_pred)"
   ]
  },
  {
   "cell_type": "code",
   "execution_count": 58,
   "id": "b078440c",
   "metadata": {},
   "outputs": [],
   "source": [
    "mse=mean_squared_error(y_test,y_pred)"
   ]
  },
  {
   "cell_type": "code",
   "execution_count": 59,
   "id": "7f3a995a",
   "metadata": {},
   "outputs": [
    {
     "data": {
      "text/plain": [
       "17.472020602227573"
      ]
     },
     "execution_count": 59,
     "metadata": {},
     "output_type": "execute_result"
    }
   ],
   "source": [
    "mse"
   ]
  },
  {
   "cell_type": "code",
   "execution_count": 60,
   "id": "b6338b58",
   "metadata": {},
   "outputs": [],
   "source": [
    "rmse=np.sqrt(mse)"
   ]
  },
  {
   "cell_type": "code",
   "execution_count": 61,
   "id": "76c0c299",
   "metadata": {},
   "outputs": [
    {
     "data": {
      "text/plain": [
       "4.179954617244974"
      ]
     },
     "execution_count": 61,
     "metadata": {},
     "output_type": "execute_result"
    }
   ],
   "source": [
    "rmse"
   ]
  },
  {
   "cell_type": "code",
   "execution_count": null,
   "id": "1b739512",
   "metadata": {},
   "outputs": [],
   "source": []
  }
 ],
 "metadata": {
  "kernelspec": {
   "display_name": "Python 3 (ipykernel)",
   "language": "python",
   "name": "python3"
  },
  "language_info": {
   "codemirror_mode": {
    "name": "ipython",
    "version": 3
   },
   "file_extension": ".py",
   "mimetype": "text/x-python",
   "name": "python",
   "nbconvert_exporter": "python",
   "pygments_lexer": "ipython3",
   "version": "3.9.6"
  }
 },
 "nbformat": 4,
 "nbformat_minor": 5
}
